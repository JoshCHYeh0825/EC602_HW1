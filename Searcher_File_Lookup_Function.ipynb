{
  "nbformat": 4,
  "nbformat_minor": 0,
  "metadata": {
    "colab": {
      "provenance": []
    },
    "kernelspec": {
      "name": "python3",
      "display_name": "Python 3"
    },
    "language_info": {
      "name": "python"
    }
  },
  "cells": [
    {
      "cell_type": "code",
      "execution_count": 6,
      "metadata": {
        "colab": {
          "base_uri": "https://localhost:8080/"
        },
        "id": "-BpzyTt5t-T0",
        "outputId": "26b3ac21-871c-4683-c754-d43b7d4a6c78"
      },
      "outputs": [
        {
          "output_type": "stream",
          "name": "stdout",
          "text": [
            "{'fname': ['Assignment1', 'Assignment1ENGR_Thesis', 'Lab1'], 'date': ['2023-02-21 19:00:12', '2024-08-31 00:10:03', '2022-04-29 00:15:21', '2021-09-10 18:12:14'], 'dtype': ['ipynb', 'csv', 'txt', 'pdf'], 'size': [778123, 1203459, 9992812, 83847192], 'perm': [745, 777, 717, 744], 'path': ['/home/user/Documents/Assignment1.ipynb', '/home/user/Desktop/Assignment1.csv', '/home/user/Desktop/Essays/ENGR_Thesis.txt', 'home/user2/Programs/Lab1.pdf']}\n"
          ]
        }
      ],
      "source": [
        "import time as tme\n",
        "import datetime as dt\n",
        "\n",
        "#Dummy Library\n",
        "data_lib = {}\n",
        "\n",
        "data_lib['fname'] = [\"Assignment1\", \"Assignment1\" \"ENGR_Thesis\", \"Lab1\"]\n",
        "data_lib ['date'] = [\"2023-02-21 19:00:12\", \"2024-08-31 00:10:03\", \"2022-04-29 00:15:21\", \"2021-09-10 18:12:14\"]\n",
        "data_lib ['dtype'] = [\"ipynb\", \"csv\", \"txt\", \"pdf\"]\n",
        "data_lib ['size'] = [778123, 1203459, 9992812, 83847192]\n",
        "data_lib ['perm'] = [745, 777, 717, 744]\n",
        "data_lib ['path'] = [\"/home/user/Documents/Assignment1.ipynb\", \"/home/user/Desktop/Assignment1.csv\", \"/home/user/Desktop/Essays/ENGR_Thesis.txt\", \"home/user2/Programs/Lab1.pdf\"]\n",
        "\n",
        "print(data_lib)"
      ]
    },
    {
      "cell_type": "code",
      "source": [
        "#fslookup main function\n",
        "def fslookup(file_lib, fname=None, sdate=None, edate=None, maxSize=None, minSize=None, dtype=None, perm=None, path=None):\n",
        "\n",
        "    #Dictionary to be appended, returned and printed out\n",
        "    search_lib = {\n",
        "        'fname': [],\n",
        "        'date': [],\n",
        "        'size': [],\n",
        "        'perm': [],\n",
        "        'path': []\n",
        "        }\n",
        "\n",
        "    # Date functions\n",
        "    def string2unix(date_string, format_string):\n",
        "\n",
        "        date_time = dt.datetime.strptime(date_string, format_string)\n",
        "\n",
        "        return int(date_time.timestamp())\n",
        "\n",
        "    dt_format = \"%Y-%m-%d %H:%M:%S\"\n",
        "    sdate2unix = string2unix(sdate, dt_format)\n",
        "    edate2unix = string2unix(edate, dt_format)\n",
        "\n",
        "    # fname search\n",
        "    for i in range(len(file_lib['fname'])):\n",
        "        if fname and file_lib['fname'][i] != fname:\n",
        "            continue\n",
        "\n",
        "    # Date Search\n",
        "        accessed_date = file_lib['date'][i]\n",
        "        acc_dte2unix = string2unix(accessed_date, dt_format)\n",
        "\n",
        "        if sdate2unix or edate2unix:\n",
        "            if (sdate2unix and acc_dte2unix < sdate2unix) or (edate2unix and acc_dte2unix > edate2unix):\n",
        "                continue\n",
        "\n",
        "    # dtype search\n",
        "        if dtype and file_lib['dtype'][i]!= dtype:\n",
        "            continue\n",
        "\n",
        "    # File Size Search\n",
        "        size = file_lib['size'][i]\n",
        "        if (minSize and size < minSize) or (maxSize and size > maxSize):\n",
        "            continue\n",
        "\n",
        "    # Perm Search\n",
        "        if perm and file_lib['perm'][i] != perm:\n",
        "            continue\n",
        "\n",
        "    # Path search\n",
        "        if path and file_lib['path'][i] != path:\n",
        "            continue\n",
        "\n",
        "    # Collect file info and compile into search-lib dictionary\n",
        "        search_lib['fname'].append(file_lib['fname'][i])\n",
        "        search_lib['date'].append(file_lib['date'][i])\n",
        "        search_lib['size'].append(file_lib['size'][i])\n",
        "        search_lib['perm'].append(file_lib['perm'][i])\n",
        "        search_lib['path'].append(file_lib['path'][i])\n",
        "\n",
        "    return print(search_lib)"
      ],
      "metadata": {
        "id": "cl9OpjRQuPHu"
      },
      "execution_count": 8,
      "outputs": []
    },
    {
      "cell_type": "code",
      "source": [
        "result = fslookup(data_lib, \"Assignment1\", \"2023-02-21 00:00:00\", \"2023-02-22 00:00:00\", 778300, 778100, \"ipynb\", 745, \"/home/user/Documents/Assignment1.ipynb\")"
      ],
      "metadata": {
        "colab": {
          "base_uri": "https://localhost:8080/"
        },
        "id": "e1L33gqFuSku",
        "outputId": "d04ebb40-fcef-4c2f-eda4-f149f1afbf65"
      },
      "execution_count": 9,
      "outputs": [
        {
          "output_type": "stream",
          "name": "stdout",
          "text": [
            "{'fname': ['Assignment1'], 'date': ['2023-02-21 19:00:12'], 'size': [778123], 'perm': [745], 'path': ['/home/user/Documents/Assignment1.ipynb']}\n"
          ]
        }
      ]
    }
  ]
}